{
  "nbformat": 4,
  "nbformat_minor": 0,
  "metadata": {
    "colab": {
      "name": "Untitled0.ipynb",
      "provenance": [],
      "collapsed_sections": [],
      "authorship_tag": "ABX9TyMSVZwsyACiSrArvRaLLUiW",
      "include_colab_link": true
    },
    "kernelspec": {
      "name": "python3",
      "display_name": "Python 3"
    }
  },
  "cells": [
    {
      "cell_type": "markdown",
      "metadata": {
        "id": "view-in-github",
        "colab_type": "text"
      },
      "source": [
        "<a href=\"https://colab.research.google.com/github/nature1216/test.ai/blob/master/Untitled0.ipynb\" target=\"_parent\"><img src=\"https://colab.research.google.com/assets/colab-badge.svg\" alt=\"Open In Colab\"/></a>"
      ]
    },
    {
      "cell_type": "code",
      "metadata": {
        "id": "lHB8A-ohzufb",
        "colab_type": "code",
        "outputId": "78201a6b-2c73-4166-c887-caf4ec1bbdca",
        "colab": {
          "base_uri": "https://localhost:8080/",
          "height": 134
        }
      },
      "source": [
        "# 언어 분야\n",
        "\n",
        "## 대화형 챗봇\n",
        "자연언어처리기술(NLP)을 활용하여 사용자가 챗봇에 채팅을 보내면\n",
        "챗봇이 적절한 응답을 함으로써 다양한 문제해결을 하도록 되어 있다.\n",
        "챗봇은 사용자의 채팅을 해득할 때, 지난 대화 정보와 챗봇의 처리된 응답, API 검색 정보 결과를 활용한다.\n",
        "\n",
        "# 음성 분야\n",
        "\n",
        "## WT2\n",
        "동시통역이 가능한 무선 이어폰, 36개 언어를 지원하며,\n",
        "통역이 필요한 순간에 전용 앱과 연동되기 때문에 버튼을 누르는 등 특별한 동작을 취햘 필요가 없다.\n",
        "이어폰 장착 후 자신의 언어로 말하면 상대방에게 번역된 언어가 음성으로 전달된다.\n",
        "이어폰 사용이 어려운 상황에도 이어폰에 탑재된 마이크에 문장을 전달하면 전용 앱이 이를 텍스트로 번역하고 읽어준다.\n",
        "\n",
        "\n",
        "# 이미지 분야\n",
        "\n",
        "## 구글 포토-딥 컴퓨터 비전 기술\n",
        "찍은 사진을 자동으로 분류, 검색어를 입력하면 사용자의 사진 중 그에 맞는 사진들을 빠르게 찾아준다.\n",
        "딥러닝 기술을 활용해 이미지가 가진 색상, 질감, 형태 등 보다 다양한 요소를 구분해 낸다.\n",
        "기존의 클래식 컴퓨터 비전은 이미지에서 픽셀을 쪼갠 다음 학습을 거쳐 해당 이미지가 어떤 의미를\n",
        "가졌는지 라벨링하는 작업이 별개로 이뤄졌다면 딥 컴퓨터 비전은 이런 작업들이 하나의 과정으로 이뤄지고,\n",
        "따라서 수행시간이 짧아진다는 점에서 차이가 있다.\n",
        "구글은 검색 DB를 구축하면서 확보해 온 방대한 이미지 데이터들과 함께 '오픈 이미지 데이터셋'이라는 컴퓨터 비전 연구 전용 데이터셋을 사용한다.\n",
        "이 데이터셋은 900만개가 넘는 이미지들로 구성되었으며, 이러한 이미지로 학습하는 과정에는 날짜나 장소, 시간, 주위 랜드마크, 로고, 이미지 내 텍스트 등을\n",
        "종합적으로 학습해 이미지가 어떤 이벤트를 말하고 있는지까지 파악할 수 있도록 했다. 휴일이나 생일 등을 포함한 여러 이벤트를 구분해낸다.\n",
        "\n",
        "# 자율주행 분야\n",
        "\n",
        "## 테슬라(Tesla)의 Long-tail 대처\n",
        "정형화된 모습이 아닌 수천 가지의 표지판 존재(ex. stop sign)\n",
        "흔치 않은 상황(ex. 나무에 가려져 표지판 전체가 보이지 않음)인 Long-tail이 발생할 경우,\n",
        "**자율주행 신경망에서 각 차량에게 이와 비슷한 이미지들을 데이터 센터로 보낼 것을 명령**\n",
        "→차량들로부터 받은 롱 테일 이미지들을 다시 라벨링하고 새로 신경망을 훈련\n",
        "자율주행 차량은 운전에 필요한 차선, 신호등뿐만 아니라 도로 주변의 쓰레기통까지 인식하여 대응할 필요가 있음\n",
        "→__어떠한 환경에서도 모든 사물에 대해 각각의 데이터 엔진을 구성__\n"
      ],
      "execution_count": 0,
      "outputs": [
        {
          "output_type": "error",
          "ename": "SyntaxError",
          "evalue": "ignored",
          "traceback": [
            "\u001b[0;36m  File \u001b[0;32m\"<ipython-input-1-61540bfe0e76>\"\u001b[0;36m, line \u001b[0;32m10\u001b[0m\n\u001b[0;31m    찍은 사진을 자동으로 분류, 검색어를 입력하면 사용자의 사진 중 그에 맞는 사진들을 빠르게 찾아준다.\u001b[0m\n\u001b[0m         ^\u001b[0m\n\u001b[0;31mSyntaxError\u001b[0m\u001b[0;31m:\u001b[0m invalid syntax\n"
          ]
        }
      ]
    }
  ]
}